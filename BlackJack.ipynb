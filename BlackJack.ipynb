{
 "cells": [
  {
   "cell_type": "code",
   "execution_count": 1,
   "metadata": {},
   "outputs": [],
   "source": [
    "import random\n",
    "class BlackJackGame:\n",
    "    def __init__(self, p_hand = [], d_hand = [], value = 0, deck = {'unlimitted_deck':True, 1:'A', 2:'2', 3:'3', 4:'4', 5:'5',\n",
    "6:'6', 7:'7', 8:'8', 9:'9', 10:'10', 11:'J', 12:'Q', 13:'K'}):\n",
    "        self.p_hand = p_hand\n",
    "        self.value = value\n",
    "        self.d_hand = d_hand\n",
    "        self.deck = deck\n",
    "        \n",
    "    def count_hand_value(self, hand): \n",
    "        hand_value = 0\n",
    "        for item in hand:\n",
    "            if item in ['J', 'Q', 'K', '10']:\n",
    "                hand_value += 10\n",
    "            elif item in [str(el) for el in range(2,10)]:\n",
    "                hand_value += int(item) \n",
    "        for item in hand:\n",
    "            if item == 'A':\n",
    "                if hand_value + 11 <= 21 and hand.count('A') == 1:\n",
    "                    hand_value += 11\n",
    "                elif hand_value + 11 >= 21 and hand.count('A') == 1:\n",
    "                    hand_value += 1\n",
    "                elif hand.count('A') > 1 and hand_value + hand.count('A')-1 + 11 <= 21:\n",
    "                    hand_value += 11\n",
    "                elif hand.count('A') > 1 and hand_value + hand.count('A')-1 + 11 > 21:\n",
    "                    hand_value += 1\n",
    "        return hand_value      \n",
    "    \n",
    "    def start_the_game(self):\n",
    "        self.p_hand = []\n",
    "        self.p_hand.append(self.deck[random.randint(1,13)])\n",
    "        self.p_hand.append(self.deck[random.randint(1,13)])\n",
    "        \n",
    "     #   print(self.p_hand, self.count_hand_value(self.p_hand))\n",
    "        self.d_hand = []\n",
    "        self.d_hand.append(self.deck[random.randint(1,13)])\n",
    "        self.d_hand.append(self.deck[random.randint(1,13)])\n",
    "     #   print(self.d_hand[0])\n",
    "        \n",
    "    def player_turn(self):\n",
    "        while True: \n",
    "            if (self.count_hand_value(self.p_hand) == 12 and self.d_hand[0] in ['4','5','6']) or \\\n",
    "                (21 >= self.count_hand_value(self.p_hand) >= 17) or \\\n",
    "                (self.count_hand_value(self.p_hand) in range(12,17) and self.d_hand[0] in ['2','3','4','5','6']):\n",
    "                break\n",
    "            elif self.count_hand_value(self.p_hand) > 21:\n",
    "                return 'Dealer wins'\n",
    "            else:\n",
    "                self.p_hand.append(self.deck[random.randint(1,13)])\n",
    "            \n",
    "    def dealer_turn(self):\n",
    "        if self.player_turn() != 'Dealer wins':\n",
    "            while self.count_hand_value(self.d_hand) < 17:\n",
    "                self.d_hand.append(self.deck[random.randint(1,13)])\n",
    "            if self.count_hand_value(self.d_hand) > 21:\n",
    "              #  print('Dealer\\'s hand:{}. Dealer\\'s hand value {}. Dealer bursts.'.format(self.d_hand,\n",
    "                            #                                                              self.count_hand_value(self.d_hand)))\n",
    "               # print('Player\\'s hand:{}.Player\\'s hand value {}.'.format(self.p_hand,\n",
    "                             #                           self.count_hand_value(self.p_hand)))\n",
    "                return 'Player wins'\n",
    "            else:\n",
    "               # print('Player\\'s hand:{}.Player\\'s hand value {}.'.format(self.p_hand,\n",
    "                      #                                  self.count_hand_value(self.p_hand)))\n",
    "               # print('Dealer\\'s hand:{}. Dealer\\'s hand value {}. '.format(self.d_hand,\n",
    "                 #                                                                         self.count_hand_value(self.d_hand)))\n",
    "                if self.count_hand_value(self.d_hand) > self.count_hand_value(self.p_hand):\n",
    "                    return 'Dealer wins'\n",
    "                elif self.count_hand_value(self.d_hand) == self.count_hand_value(self.p_hand):\n",
    "                    return 'Tie'\n",
    "                else:\n",
    "                    return 'Player wins'\n",
    "        else:\n",
    "            #print('Player\\'s hand:{}.Player\\'s hand value {}. Player bursts.'.format(self.p_hand,\n",
    "             #                                           self.count_hand_value(self.p_hand)))\n",
    "            return 'Dealer wins'\n",
    "    def simulate_game(self, number = 1):\n",
    "        pl_w = 0\n",
    "        pl_l = 0\n",
    "        tie = 0\n",
    "        while number != 0:\n",
    "            simulate_black_jack.start_the_game()\n",
    "            simulate_black_jack.player_turn()\n",
    "            simulate_black_jack.dealer_turn()\n",
    "            if self.dealer_turn() == 'Player wins':\n",
    "                pl_w += 1\n",
    "            elif self.dealer_turn() == 'Dealer wins':\n",
    "                pl_l += 1\n",
    "            elif self.dealer_turn() == 'Tie':\n",
    "                tie += 1\n",
    "            number -= 1\n",
    "        return {'player_won':pl_w, 'player_lost':pl_l, 'ties':tie, 'player_winrate':round(pl_w/(pl_w + pl_l + tie),2)}\n",
    "        "
   ]
  },
  {
   "cell_type": "code",
   "execution_count": 2,
   "metadata": {},
   "outputs": [],
   "source": [
    "simulate_black_jack = BlackJackGame()"
   ]
  },
  {
   "cell_type": "code",
   "execution_count": 8,
   "metadata": {},
   "outputs": [
    {
     "data": {
      "text/plain": [
       "[21234, 24073, 4693, 0.42]"
      ]
     },
     "execution_count": 8,
     "metadata": {},
     "output_type": "execute_result"
    }
   ],
   "source": [
    "simulate_black_jack.simulate_game(50000)"
   ]
  }
 ],
 "metadata": {
  "kernelspec": {
   "display_name": "Python 3",
   "language": "python",
   "name": "python3"
  },
  "language_info": {
   "codemirror_mode": {
    "name": "ipython",
    "version": 3
   },
   "file_extension": ".py",
   "mimetype": "text/x-python",
   "name": "python",
   "nbconvert_exporter": "python",
   "pygments_lexer": "ipython3",
   "version": "3.8.5"
  }
 },
 "nbformat": 4,
 "nbformat_minor": 4
}
