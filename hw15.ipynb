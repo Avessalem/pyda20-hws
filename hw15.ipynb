{
 "cells": [
  {
   "cell_type": "code",
   "execution_count": 44,
   "metadata": {},
   "outputs": [],
   "source": [
    "import numpy as np"
   ]
  },
  {
   "cell_type": "code",
   "execution_count": 45,
   "metadata": {},
   "outputs": [
    {
     "name": "stdout",
     "output_type": "stream",
     "text": [
      "Количество испытаний:1000000\n",
      "-0.204193\n"
     ]
    }
   ],
   "source": [
    "player = 0\n",
    "income = {777: 200 ,\n",
    "999: 100 ,\n",
    "555: 50 ,\n",
    "333: 15 ,\n",
    "111: 10}\n",
    "games = int(input('Количество испытаний:'))\n",
    "for i in range(games):\n",
    "    player -= 1\n",
    "    result = np.random.randint(0,1000)\n",
    "    if result in income.keys():\n",
    "        player += income[result]\n",
    "    elif result % 100 == 77:\n",
    "        player += 5\n",
    "    elif result % 10 == 7:\n",
    "        player += 3\n",
    "    elif result % 100 == 0:\n",
    "        player += 2\n",
    "    elif result % 10 == 0:\n",
    "        player += 1\n",
    "    else:\n",
    "        pass\n",
    "print(player/games)\n",
    "\n",
    "   \n",
    "    "
   ]
  },
  {
   "cell_type": "markdown",
   "metadata": {},
   "source": [
    "Согласно моделированию - в среднем игрок теряет ~20 копеек за игру"
   ]
  },
  {
   "cell_type": "code",
   "execution_count": 46,
   "metadata": {},
   "outputs": [
    {
     "data": {
      "text/plain": [
       "-0.19999999999999996"
      ]
     },
     "execution_count": 46,
     "metadata": {},
     "output_type": "execute_result"
    }
   ],
   "source": [
    "1/1000*199 + 1/1000*99 + 1/1000*49 + 1/1000*14 + 1/1000*9 + 9/1000*4 + 90/1000*2 + 10/1000*1 + 90/1000*0 - 796/1000\n",
    "#среднее value одной игры по формуле"
   ]
  }
 ],
 "metadata": {
  "kernelspec": {
   "display_name": "Python 3",
   "language": "python",
   "name": "python3"
  },
  "language_info": {
   "codemirror_mode": {
    "name": "ipython",
    "version": 3
   },
   "file_extension": ".py",
   "mimetype": "text/x-python",
   "name": "python",
   "nbconvert_exporter": "python",
   "pygments_lexer": "ipython3",
   "version": "3.8.5"
  }
 },
 "nbformat": 4,
 "nbformat_minor": 4
}
