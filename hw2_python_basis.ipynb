{
 "cells": [
  {
   "cell_type": "markdown",
   "metadata": {},
   "source": [
    "### Задание 1"
   ]
  },
  {
   "cell_type": "code",
   "execution_count": 1,
   "metadata": {
    "scrolled": true
   },
   "outputs": [
    {
     "name": "stdout",
     "output_type": "stream",
     "text": [
      "Введите фразу 1: 123\n",
      "Введите фразу 2: 1233\n",
      "Фраза 2 длиннее фразы 1\n"
     ]
    }
   ],
   "source": [
    "phrase_1 = input('Введите фразу 1: ')\n",
    "phrase_2 = input('Введите фразу 2: ')\n",
    "if len(phrase_1) > len(phrase_2):\n",
    "    print('Фраза 1 длиннее фразы 2')\n",
    "elif len(phrase_1) == len(phrase_2):\n",
    "    print('Фразы равной длинны')\n",
    "else:\n",
    "    print('Фраза 2 длиннее фразы 1')"
   ]
  },
  {
   "cell_type": "markdown",
   "metadata": {},
   "source": [
    "### Задание 2"
   ]
  },
  {
   "cell_type": "code",
   "execution_count": 4,
   "metadata": {},
   "outputs": [
    {
     "name": "stdout",
     "output_type": "stream",
     "text": [
      "Введите год: 1600\n",
      "Високосный год\n"
     ]
    }
   ],
   "source": [
    "year = int(input('Введите год: '))\n",
    "if year % 400 == 0 or (year % 100 != 0 and  year % 4 == 0):\n",
    "    print('Високосный год')\n",
    "else:\n",
    "    print('Обычный год')"
   ]
  },
  {
   "cell_type": "markdown",
   "metadata": {},
   "source": [
    "### Задание 3"
   ]
  },
  {
   "cell_type": "code",
   "execution_count": null,
   "metadata": {},
   "outputs": [],
   "source": [
    "month = input('Введите месяц: ')\n",
    "day = int(input('Введите день: '))\n",
    "if (month == 'Январь' and day >= 21) or (month == 'Февраль' and day <= 18):\n",
    "    print(\"Водолей\")\n",
    "elif (month == 'Февраль' and day >= 19) or (month == 'Март' and day <= 20):\n",
    "    print(\"Рыбы\")\n",
    "elif (month == 'Март' and day >= 21) or (month == 'Апрель' and day <= 19):\n",
    "    print(\"Овен\")\n",
    "elif (month == 'Апрель' and day >= 20) or (month == 'Май' and day <= 20):\n",
    "    print(\"Телец\")\n",
    "elif (month == 'Май' and day >= 21) or (month == 'Июнь' and day <= 21):\n",
    "    print(\"Близнецы\")\n",
    "elif (month == 'Июнь' and day >= 22) or (month == 'Июль' and day <= 22):\n",
    "    print(\"Рак\")\n",
    "elif (month == 'Июль' and day >= 23) or (month == 'Август' and day <= 22):\n",
    "    print(\"Лев\")\n",
    "elif (month == 'Август' and day >= 23) or (month == 'Сентябрь' and day <= 22):\n",
    "    print(\"Дева\")\n",
    "elif (month == 'Сентябрь' and day >= 23) or (month == 'Октябрь' and day <= 23):\n",
    "    print(\"Весы\")\n",
    "elif (month == 'Октябрь' and day >= 24) or (month == 'Ноябрь' and day <= 22):\n",
    "    print(\"Скорпион\")\n",
    "elif (month == 'Ноябрь' and day >= 23) or (month == 'Декабрь' and day <= 21):\n",
    "    print(\"Стрелец\")\n",
    "elif (month == 'Декабрь' and day >= 22) or (month == 'Январь' and day <= 20):\n",
    "    print(\"Козерог\")\n"
   ]
  },
  {
   "cell_type": "markdown",
   "metadata": {},
   "source": [
    "### Задание 4"
   ]
  },
  {
   "cell_type": "code",
   "execution_count": 18,
   "metadata": {},
   "outputs": [
    {
     "name": "stdout",
     "output_type": "stream",
     "text": [
      "Коробка №2\n"
     ]
    }
   ],
   "source": [
    "width = 10\n",
    "length = 15\n",
    "height = 4\n",
    "if max(width, length, height) < 15:\n",
    "    print('Коробка №1')\n",
    "elif max(width, length, height) in range(15,50):\n",
    "    print('Коробка №2')\n",
    "elif length > 200:\n",
    "    print('Упаковка для лыж')\n",
    "else:\n",
    "    print('Стандартная коробка №3')"
   ]
  },
  {
   "cell_type": "markdown",
   "metadata": {},
   "source": [
    "### Задание 5"
   ]
  },
  {
   "cell_type": "code",
   "execution_count": 15,
   "metadata": {},
   "outputs": [
    {
     "name": "stdout",
     "output_type": "stream",
     "text": [
      "Введите номер: 234235\n",
      "Обычный\n"
     ]
    }
   ],
   "source": [
    "number = int(input('Введите номер: '))\n",
    "first = number // 100000\n",
    "second = number%100000 // 10000\n",
    "third = number%10000 // 1000\n",
    "fourth = number%1000 // 100\n",
    "fifth = number%100 // 10\n",
    "sixth = number%10\n",
    "if (first+second+third == fourth+fifth+sixth):\n",
    "    print('Счастливый')\n",
    "else:\n",
    "    print('Обычный')"
   ]
  },
  {
   "cell_type": "markdown",
   "metadata": {},
   "source": [
    "### Задание 6"
   ]
  },
  {
   "cell_type": "code",
   "execution_count": 21,
   "metadata": {},
   "outputs": [
    {
     "name": "stdout",
     "output_type": "stream",
     "text": [
      "Введите тип фигуры: Круг\n",
      "Введите радиус: 10\n",
      "314.16\n"
     ]
    }
   ],
   "source": [
    "import math\n",
    "figure = input('Введите тип фигуры: ')\n",
    "if figure == 'Круг':\n",
    "    radius = int(input(\"Введите радиус: \"))\n",
    "    print (round((math.pi*radius**2),2))\n",
    "elif figure == 'Прямоугольник':\n",
    "    a_side = int(input(\"Введите сторону а: \"))\n",
    "    b_side = int(input(\"Введите сторону b: \"))\n",
    "    print (a*b)\n",
    "elif figure == 'Треугольник':\n",
    "    a_side = int(input(\"Введите сторону а: \"))\n",
    "    b_side = int(input(\"Введите сторону b: \"))\n",
    "    c_side = int(input(\"Введите сторону c: \"))\n",
    "    p = (a_side + b_side + c_side)/2\n",
    "    print(math.sqrt(p*(p-a_side)*(p-b_side)*(p-c_side)))\n",
    "else:\n",
    "    print('Неверный тип фигуры')"
   ]
  }
 ],
 "metadata": {
  "kernelspec": {
   "display_name": "Python 3",
   "language": "python",
   "name": "python3"
  },
  "language_info": {
   "codemirror_mode": {
    "name": "ipython",
    "version": 3
   },
   "file_extension": ".py",
   "mimetype": "text/x-python",
   "name": "python",
   "nbconvert_exporter": "python",
   "pygments_lexer": "ipython3",
   "version": "3.8.5"
  }
 },
 "nbformat": 4,
 "nbformat_minor": 4
}
