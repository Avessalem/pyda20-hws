{
 "cells": [
  {
   "cell_type": "markdown",
   "metadata": {},
   "source": [
    "### Задание 1"
   ]
  },
  {
   "cell_type": "code",
   "execution_count": 10,
   "metadata": {},
   "outputs": [
    {
     "name": "stdout",
     "output_type": "stream",
     "text": [
      "Input word: wordi\n",
      "r\n"
     ]
    }
   ],
   "source": [
    "word = input(\"Input word: \")\n",
    "if len(word)%2==0:\n",
    "    print(word[(len(word)//2-1)] + word[(len(word)//2)])\n",
    "else:\n",
    "    print(word[(len(word)//2)])"
   ]
  },
  {
   "cell_type": "markdown",
   "metadata": {},
   "source": [
    "### Задание 2"
   ]
  },
  {
   "cell_type": "code",
   "execution_count": 1,
   "metadata": {},
   "outputs": [
    {
     "name": "stdout",
     "output_type": "stream",
     "text": [
      "Input number: 1\n",
      "Input number: 2\n",
      "Input number: 3\n",
      "Input number: 0\n",
      "6\n"
     ]
    }
   ],
   "source": [
    "summ = 0\n",
    "number = int(input('Input number: '))\n",
    "while number != 0:\n",
    "    summ = summ + number\n",
    "    number = int(input('Input number: '))\n",
    "print(summ)"
   ]
  },
  {
   "cell_type": "markdown",
   "metadata": {},
   "source": [
    "### Задание 3"
   ]
  },
  {
   "cell_type": "code",
   "execution_count": 38,
   "metadata": {},
   "outputs": [
    {
     "name": "stdout",
     "output_type": "stream",
     "text": [
      "Идеальные пары:\n",
      "Andrew и Angela\n",
      "Jim и Jane\n",
      "John и Jessica\n"
     ]
    }
   ],
   "source": [
    "boys = ['John','Jim','Andrew']\n",
    "girls = ['Jane','Jessica','Angela']\n",
    "if len(boys) != len(girls):\n",
    "    print('Внимание! Кто-то может остаться без пары!')\n",
    "else:\n",
    "    print('Идеальные пары:')\n",
    "    l = len(boys)\n",
    "    while l != 0:\n",
    "        print(((sorted(boys))[-l]),\"и\", ((sorted(girls))[-l]))\n",
    "        l=l-1"
   ]
  },
  {
   "cell_type": "markdown",
   "metadata": {},
   "source": [
    "### Задание 4"
   ]
  },
  {
   "cell_type": "code",
   "execution_count": 15,
   "metadata": {},
   "outputs": [
    {
     "name": "stdout",
     "output_type": "stream",
     "text": [
      "Thailand - 23.9 C\n",
      "Germany - 13.8 C\n",
      "Russia - 3.7 C\n",
      "Poland - 12.0 C\n"
     ]
    }
   ],
   "source": [
    "countries_temperature = [['Thailand', [75.2, 77, 78.8, 73.4, 68, 75.2, 77]],\n",
    "['Germany', [57.2, 55.4, 59, 59, 53.6]],\n",
    "['Russia', [35.6, 37.4, 39.2, 41, 42.8, 39.2, 35.6]],\n",
    "['Poland', [50, 50, 53.6, 57.2, 55.4, 55.4]]]\n",
    "l = len(countries_temperature)\n",
    "while l != 0:\n",
    "    print((countries_temperature[-l][0]),'-',\n",
    "        round((sum(countries_temperature[-l][1])/len(countries_temperature[-l][1])-32)/1.8,1), 'C')\n",
    "    l=l-1"
   ]
  },
  {
   "cell_type": "markdown",
   "metadata": {},
   "source": [
    "### Задание 5"
   ]
  },
  {
   "cell_type": "code",
   "execution_count": 15,
   "metadata": {},
   "outputs": [
    {
     "name": "stdout",
     "output_type": "stream",
     "text": [
      "Среднее количество просмотров на уникального пользователя:  23.25\n"
     ]
    }
   ],
   "source": [
    "stream =  [\n",
    "'2018-01-01,user1,3',\n",
    "'2018-01-07,user1,4',\n",
    "'2018-03-29,user1,1',\n",
    "'2018-04-04,user1,13',\n",
    "'2018-01-05,user2,7',\n",
    "'2018-06-14,user3,4',\n",
    "'2018-07-02,user3,10',\n",
    "'2018-03-21,user4,19',\n",
    "'2018-03-22,user4,4',\n",
    "'2018-04-22,user4,8',\n",
    "'2018-05-03,user4,9',\n",
    "'2018-05-11,user4,11',\n",
    "]\n",
    "l = len(stream)\n",
    "views = []\n",
    "unique_users = []\n",
    "while l != 0:\n",
    "    views.append(int(stream[-l].split(',')[2]))\n",
    "    unique_users.append(stream[-l].split(',')[1])\n",
    "    l=l-1      \n",
    "print('Среднее количество просмотров на уникального пользователя: ', sum(views)/len(set(unique_users)))"
   ]
  },
  {
   "cell_type": "markdown",
   "metadata": {},
   "source": [
    "### Задание 6"
   ]
  },
  {
   "cell_type": "code",
   "execution_count": 3,
   "metadata": {},
   "outputs": [
    {
     "name": "stdout",
     "output_type": "stream",
     "text": [
      "Введите числа:3 3 7 7 5 5 0\n",
      "3 5 7\n"
     ]
    }
   ],
   "source": [
    "numbers = input('Введите числа:').split(' ')\n",
    "l=len(numbers)\n",
    "multiple_numbers = []\n",
    "while l != 0:\n",
    "    if numbers.count(numbers[-l]) > 1:\n",
    "        multiple_numbers.append(numbers[-l])\n",
    "    l=l-1\n",
    "    \n",
    "multiple_numbers = sorted(set(multiple_numbers))\n",
    "print(' '.join(multiple_numbers))"
   ]
  }
 ],
 "metadata": {
  "kernelspec": {
   "display_name": "Python 3",
   "language": "python",
   "name": "python3"
  },
  "language_info": {
   "codemirror_mode": {
    "name": "ipython",
    "version": 3
   },
   "file_extension": ".py",
   "mimetype": "text/x-python",
   "name": "python",
   "nbconvert_exporter": "python",
   "pygments_lexer": "ipython3",
   "version": "3.8.5"
  }
 },
 "nbformat": 4,
 "nbformat_minor": 4
}
