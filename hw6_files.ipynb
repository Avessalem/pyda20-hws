{
 "cells": [
  {
   "cell_type": "markdown",
   "metadata": {},
   "source": [
    "### Задание 1 + 2"
   ]
  },
  {
   "cell_type": "code",
   "execution_count": 25,
   "metadata": {
    "scrolled": false
   },
   "outputs": [],
   "source": [
    "import json\n",
    "\n",
    "visit_log = open('visit_log.csv', 'r')\n",
    "purchase_log = open('purchase_log.txt','r',encoding='utf-8')\n",
    "funnel = open('funnel.csv','w',encoding='utf-8')\n",
    "purchases = {}\n",
    "purchase_log.seek(0)\n",
    "for line in purchase_log:\n",
    "    purchases.update({json.loads(line.strip())['user_id']:json.loads(line.strip())['category']})\n",
    "\n",
    "for log in visit_log:\n",
    "    if log.strip().split(',')[0] in purchases:\n",
    "        funnel.write(log.strip().split(',')[0] + ',' + log.strip().split(',')[1] + ','+ purchases[log.strip().split(',')[0]] +'\\n')\n"
   ]
  }
 ],
 "metadata": {
  "kernelspec": {
   "display_name": "Python 3",
   "language": "python",
   "name": "python3"
  },
  "language_info": {
   "codemirror_mode": {
    "name": "ipython",
    "version": 3
   },
   "file_extension": ".py",
   "mimetype": "text/x-python",
   "name": "python",
   "nbconvert_exporter": "python",
   "pygments_lexer": "ipython3",
   "version": "3.8.5"
  }
 },
 "nbformat": 4,
 "nbformat_minor": 4
}
