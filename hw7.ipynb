{
 "cells": [
  {
   "cell_type": "code",
   "execution_count": 3,
   "metadata": {},
   "outputs": [],
   "source": [
    "from datetime import datetime"
   ]
  },
  {
   "cell_type": "markdown",
   "metadata": {},
   "source": [
    "### Задание 1"
   ]
  },
  {
   "cell_type": "code",
   "execution_count": 18,
   "metadata": {},
   "outputs": [
    {
     "name": "stdout",
     "output_type": "stream",
     "text": [
      "2002-10-02 00:00:00\n",
      "2013-10-11 00:00:00\n",
      "1977-08-18 00:00:00\n"
     ]
    }
   ],
   "source": [
    "newspapers = ['The Moscow Times - Wednesday, October 2, 2002',\n",
    "'The Guardian - Friday, 11.10.13',\n",
    "'Daily News - Thursday, 18 August 1977']\n",
    "for newspaper in newspapers:\n",
    "    if newspaper.split(' ')[1] == 'Moscow':\n",
    "        print(datetime.strptime(''.join(newspaper.split(' ')[4:]),'%A,%B%d,%Y'))\n",
    "    elif newspaper.split(' ')[1] == 'Guardian':\n",
    "        print(datetime.strptime(''.join(newspaper.split(' ')[3:]),'%A,%d.%m.%y'))\n",
    "    elif newspaper.split(' ')[1] == 'News':\n",
    "        print(datetime.strptime(''.join(newspaper.split(' ')[3:]),'%A,%d%B%Y'))\n"
   ]
  },
  {
   "cell_type": "markdown",
   "metadata": {},
   "source": [
    "### Задание 2"
   ]
  },
  {
   "cell_type": "code",
   "execution_count": 10,
   "metadata": {},
   "outputs": [
    {
     "data": {
      "text/plain": [
       "[('2018-04-02', True), ('2018-02-29', False), ('2018-19-02', False)]"
      ]
     },
     "execution_count": 10,
     "metadata": {},
     "output_type": "execute_result"
    }
   ],
   "source": [
    "stream = ['2018-04-02', '2018-02-29', '2018-19-02']\n",
    "stream_tested = []\n",
    "for date in stream:\n",
    "    try:\n",
    "        datetime.strptime(date,'%Y-%m-%d')\n",
    "        stream_tested.append(True)\n",
    "    except:\n",
    "        stream_tested.append(False)\n",
    "list(zip(stream,stream_tested))\n",
    "\n"
   ]
  },
  {
   "cell_type": "markdown",
   "metadata": {},
   "source": [
    "### Задание 3"
   ]
  },
  {
   "cell_type": "code",
   "execution_count": 20,
   "metadata": {},
   "outputs": [],
   "source": [
    "from datetime import timedelta    "
   ]
  },
  {
   "cell_type": "code",
   "execution_count": 33,
   "metadata": {},
   "outputs": [
    {
     "name": "stdout",
     "output_type": "stream",
     "text": [
      "Input start date: 2004-01-02\n",
      "Input end date: 2004-01-01\n",
      "start date > end date\n"
     ]
    },
    {
     "data": {
      "text/plain": [
       "[]"
      ]
     },
     "execution_count": 33,
     "metadata": {},
     "output_type": "execute_result"
    }
   ],
   "source": [
    "def date_range (start_date,end_date):\n",
    "    date_list = []\n",
    "    try:\n",
    "        start_date_datetime = datetime.strptime(start_date,'%Y-%m-%d')\n",
    "        end_date_datetime = datetime.strptime(end_date,'%Y-%m-%d')\n",
    "        current_date = datetime.strptime(start_date,'%Y-%m-%d')\n",
    "        if start_date_datetime > end_date_datetime:\n",
    "            print('start date > end date')\n",
    "            return []\n",
    "        while current_date != end_date_datetime:\n",
    "            date_list.append(datetime.strftime(current_date,'%Y-%m-%d'))\n",
    "            current_date = current_date + timedelta(days=1)\n",
    "    except ValueError:\n",
    "        print('Wrong date format')\n",
    "        return []       \n",
    "    return(date_list)\n",
    "\n",
    "date_range(input('Input start date: '),input('Input end date: '))\n"
   ]
  },
  {
   "cell_type": "markdown",
   "metadata": {},
   "source": [
    "### Задание 4"
   ]
  },
  {
   "cell_type": "code",
   "execution_count": 44,
   "metadata": {},
   "outputs": [
    {
     "name": "stdout",
     "output_type": "stream",
     "text": [
      "['A100', 'A101', 'A102']\n",
      "A101\n",
      "['A100', 'A101']\n"
     ]
    },
    {
     "ename": "IndexError",
     "evalue": "list index out of range",
     "output_type": "error",
     "traceback": [
      "\u001b[1;31m---------------------------------------------------------------------------\u001b[0m",
      "\u001b[1;31mIndexError\u001b[0m                                Traceback (most recent call last)",
      "\u001b[1;32m<ipython-input-44-d1efa2b5406c>\u001b[0m in \u001b[0;36m<module>\u001b[1;34m\u001b[0m\n\u001b[0;32m     10\u001b[0m \u001b[1;33m\u001b[0m\u001b[0m\n\u001b[0;32m     11\u001b[0m \u001b[0mprint\u001b[0m\u001b[1;33m(\u001b[0m\u001b[0mdelete_and_return_last_user\u001b[0m\u001b[1;33m(\u001b[0m\u001b[1;36m1\u001b[0m\u001b[1;33m)\u001b[0m\u001b[1;33m)\u001b[0m\u001b[1;33m\u001b[0m\u001b[1;33m\u001b[0m\u001b[0m\n\u001b[1;32m---> 12\u001b[1;33m \u001b[0mprint\u001b[0m\u001b[1;33m(\u001b[0m\u001b[0mdelete_and_return_last_user\u001b[0m\u001b[1;33m(\u001b[0m\u001b[1;36m1\u001b[0m\u001b[1;33m)\u001b[0m\u001b[1;33m)\u001b[0m\u001b[1;33m\u001b[0m\u001b[1;33m\u001b[0m\u001b[0m\n\u001b[0m",
      "\u001b[1;32m<ipython-input-44-d1efa2b5406c>\u001b[0m in \u001b[0;36mdelete_and_return_last_user\u001b[1;34m(region, default_list)\u001b[0m\n\u001b[0;32m      7\u001b[0m         \u001b[1;31m# в нём нет элемента с индексом 1, чтобы работало корректно нужно заменить DEFAULT_USER_COUNT-2\u001b[0m\u001b[1;33m\u001b[0m\u001b[1;33m\u001b[0m\u001b[1;33m\u001b[0m\u001b[0m\n\u001b[0;32m      8\u001b[0m         \u001b[1;31m# на default_list[-1]\u001b[0m\u001b[1;33m\u001b[0m\u001b[1;33m\u001b[0m\u001b[1;33m\u001b[0m\u001b[0m\n\u001b[1;32m----> 9\u001b[1;33m     \u001b[1;32mreturn\u001b[0m \u001b[0mdefault_list\u001b[0m\u001b[1;33m[\u001b[0m\u001b[0mDEFAULT_USER_COUNT\u001b[0m\u001b[1;33m-\u001b[0m\u001b[1;36m2\u001b[0m\u001b[1;33m]\u001b[0m\u001b[1;33m\u001b[0m\u001b[1;33m\u001b[0m\u001b[0m\n\u001b[0m\u001b[0;32m     10\u001b[0m \u001b[1;33m\u001b[0m\u001b[0m\n\u001b[0;32m     11\u001b[0m \u001b[0mprint\u001b[0m\u001b[1;33m(\u001b[0m\u001b[0mdelete_and_return_last_user\u001b[0m\u001b[1;33m(\u001b[0m\u001b[1;36m1\u001b[0m\u001b[1;33m)\u001b[0m\u001b[1;33m)\u001b[0m\u001b[1;33m\u001b[0m\u001b[1;33m\u001b[0m\u001b[0m\n",
      "\u001b[1;31mIndexError\u001b[0m: list index out of range"
     ]
    }
   ],
   "source": [
    "DEFAULT_USER_COUNT = 3\n",
    "\n",
    "def delete_and_return_last_user(region, default_list=['A100', 'A101', 'A102']):\n",
    "    element_to_delete = default_list[-1]\n",
    "    print(default_list)\n",
    "    default_list.remove(element_to_delete) #При повторном вызове функции, после этой строки default_list=['A100'], \n",
    "        # в нём нет элемента с индексом 1, чтобы работало корректно нужно заменить default_list[DEFAULT_USER_COUNT-2]\n",
    "        # на default_list[-1]\n",
    "    return default_list[DEFAULT_USER_COUNT-2]\n",
    "\n",
    "print(delete_and_return_last_user(1))\n",
    "print(delete_and_return_last_user(1))"
   ]
  }
 ],
 "metadata": {
  "kernelspec": {
   "display_name": "Python 3",
   "language": "python",
   "name": "python3"
  },
  "language_info": {
   "codemirror_mode": {
    "name": "ipython",
    "version": 3
   },
   "file_extension": ".py",
   "mimetype": "text/x-python",
   "name": "python",
   "nbconvert_exporter": "python",
   "pygments_lexer": "ipython3",
   "version": "3.8.5"
  }
 },
 "nbformat": 4,
 "nbformat_minor": 4
}
