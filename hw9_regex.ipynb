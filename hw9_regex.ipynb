{
 "cells": [
  {
   "cell_type": "markdown",
   "metadata": {},
   "source": [
    "### Задание 1"
   ]
  },
  {
   "cell_type": "code",
   "execution_count": 4,
   "metadata": {},
   "outputs": [],
   "source": [
    "import re"
   ]
  },
  {
   "cell_type": "code",
   "execution_count": 99,
   "metadata": {},
   "outputs": [
    {
     "name": "stdout",
     "output_type": "stream",
     "text": [
      "Номер А232ВС валиден. Регион 126\n"
     ]
    }
   ],
   "source": [
    "car_id = 'А232ВС126'\n",
    "def check_auto_id(auto_id):\n",
    "    if re.findall(r'\\b[АВЕКМНОРСТУХ]{1}\\d{3}[АВЕКМНОРСТУХ]{2}\\d{2,3}\\b', auto_id) == []:\n",
    "        print('Номер не валиден')\n",
    "    else:\n",
    "        print('Номер', re.search(r'\\b[АВЕКМНОРСТУХ]{1}\\d{3}[АВЕКМНОРСТУХ]{2}', auto_id).group(), 'валиден. Регион',\n",
    "             re.search(r'\\d{2,3}$', auto_id).group())\n",
    "        \n",
    "check_auto_id(car_id)"
   ]
  },
  {
   "cell_type": "markdown",
   "metadata": {},
   "source": [
    "### Задание 2\n"
   ]
  },
  {
   "cell_type": "code",
   "execution_count": 96,
   "metadata": {},
   "outputs": [],
   "source": [
    "some_string = 'Напишите функцию Функцию, которая будет будет будет будет удалять все все все все последовательные повторы слов из из из из заданной строки строки при помощи регулярных выражений.'"
   ]
  },
  {
   "cell_type": "code",
   "execution_count": 97,
   "metadata": {},
   "outputs": [],
   "source": [
    "def delete_dopples (string):\n",
    "    text = re.findall(r'\\w+[.,?!]{1,3}|\\w+',string.lower())\n",
    "    counter = len(text)\n",
    "    while counter != 0:\n",
    "        if text[-counter] + re.search(r'[.,!?]{1,3}',some_string).group() == text[-counter+1] or text[-counter] == text[-counter+1]:\n",
    "            text.pop(-counter)\n",
    "        else:\n",
    "            counter -= 1\n",
    "    string = ' '.join(text).capitalize()\n",
    "    return string\n",
    "        "
   ]
  },
  {
   "cell_type": "code",
   "execution_count": 98,
   "metadata": {},
   "outputs": [
    {
     "data": {
      "text/plain": [
       "'Напишите функцию, которая будет удалять все последовательные повторы слов из заданной строки при помощи регулярных выражений.'"
      ]
     },
     "execution_count": 98,
     "metadata": {},
     "output_type": "execute_result"
    }
   ],
   "source": [
    "delete_dopples(some_string)"
   ]
  },
  {
   "cell_type": "markdown",
   "metadata": {},
   "source": [
    "### Задание 3"
   ]
  },
  {
   "cell_type": "code",
   "execution_count": 183,
   "metadata": {},
   "outputs": [],
   "source": [
    "some_words = 'Near Field Communication'\n",
    "\n",
    "def acronim(string):\n",
    "    return ''.join(re.findall(r'\\b[a-zA-ZА-я]{1}', string)).upper()"
   ]
  },
  {
   "cell_type": "code",
   "execution_count": 184,
   "metadata": {
    "scrolled": true
   },
   "outputs": [
    {
     "name": "stdout",
     "output_type": "stream",
     "text": [
      "NFC\n"
     ]
    }
   ],
   "source": [
    "print(acronim(some_words))"
   ]
  },
  {
   "cell_type": "markdown",
   "metadata": {},
   "source": [
    "### Задание 4"
   ]
  },
  {
   "cell_type": "code",
   "execution_count": 227,
   "metadata": {},
   "outputs": [],
   "source": [
    "emails = ['test@gmail.com', 'xyz@test.in', 'test@ya.ru', 'xyz@mail.ru', 'xyz@ya.ru', 'xyz@gmail.com']"
   ]
  },
  {
   "cell_type": "code",
   "execution_count": 228,
   "metadata": {},
   "outputs": [],
   "source": [
    "def count_emails(list_):\n",
    "    for email in set(re.findall(r'@\\w+\\.\\w+',' '.join(list_))):\n",
    "        print (email[1:] + ':', re.findall(r'@\\w+\\.\\w+',' '.join(list_)).count(email))\n"
   ]
  },
  {
   "cell_type": "code",
   "execution_count": 229,
   "metadata": {},
   "outputs": [
    {
     "name": "stdout",
     "output_type": "stream",
     "text": [
      "ya.ru: 2\n",
      "mail.ru: 1\n",
      "gmail.com: 2\n",
      "test.in: 1\n"
     ]
    }
   ],
   "source": [
    "count_emails(emails)"
   ]
  },
  {
   "cell_type": "markdown",
   "metadata": {},
   "source": [
    "### Задание 5"
   ]
  },
  {
   "cell_type": "code",
   "execution_count": 216,
   "metadata": {},
   "outputs": [],
   "source": [
    "some_text = 'Эталонной реализацией Python является интерпретатор CPython, поддерживающий большинство активно используемых платформ. Он распространяется под свободной лицензией Python Software Foundation License, позволяющей использовать его без ограничений в любых приложениях, включая проприетарные.'"
   ]
  },
  {
   "cell_type": "code",
   "execution_count": 221,
   "metadata": {},
   "outputs": [],
   "source": [
    "def vowels_consonants(text):\n",
    "    print('Слов на гласные буквы:', len(re.findall(r'\\b[аэюяеоуюыёиayuoei]{1}',text.lower())))\n",
    "    print('Слов на согласные буквы:',len(re.findall(r'\\b[bcdfghjklmnpqrstvwxyzйцкнгшщзхфвпрлджчсмтб]{1}',text.lower())))"
   ]
  },
  {
   "cell_type": "code",
   "execution_count": 222,
   "metadata": {},
   "outputs": [
    {
     "name": "stdout",
     "output_type": "stream",
     "text": [
      "Слов на гласные буквы: 9\n",
      "Слов на согласные буквы: 21\n"
     ]
    }
   ],
   "source": [
    "vowels_consonants(some_text)\n"
   ]
  },
  {
   "cell_type": "markdown",
   "metadata": {},
   "source": [
    "### Задание 6"
   ]
  },
  {
   "cell_type": "code",
   "execution_count": 306,
   "metadata": {},
   "outputs": [],
   "source": [
    "def check_phone_number(number):\n",
    "    if re.match(r'\\+7|8', number) != None and len(re.findall(r'[0-9]{1}', number)) == 11:\n",
    "        number = ('+7' + '-' + ''.join(re.findall(r'[0-9]{1}', number)[1:4]) + '-' \n",
    "        + ''.join(re.findall(r'[0-9]{1}', number)[4:7])+ '-' + ''.join(re.findall(r'[0-9]{1}', number)[7:9])\n",
    "        + '-' + ''.join(re.findall(r'[0-9]{1}', number)[9:12]))\n",
    "        return number\n",
    "    else:\n",
    "        print('Номер не валиден')"
   ]
  },
  {
   "cell_type": "code",
   "execution_count": 308,
   "metadata": {},
   "outputs": [
    {
     "data": {
      "text/plain": [
       "'+7-985-964-64-43'"
      ]
     },
     "execution_count": 308,
     "metadata": {},
     "output_type": "execute_result"
    }
   ],
   "source": [
    "check_phone_number('8(985)964-6443')"
   ]
  }
 ],
 "metadata": {
  "kernelspec": {
   "display_name": "Python 3",
   "language": "python",
   "name": "python3"
  },
  "language_info": {
   "codemirror_mode": {
    "name": "ipython",
    "version": 3
   },
   "file_extension": ".py",
   "mimetype": "text/x-python",
   "name": "python",
   "nbconvert_exporter": "python",
   "pygments_lexer": "ipython3",
   "version": "3.8.5"
  }
 },
 "nbformat": 4,
 "nbformat_minor": 4
}
